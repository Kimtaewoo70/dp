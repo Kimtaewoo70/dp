{
 "cells": [
  {
   "cell_type": "code",
   "execution_count": 1,
   "id": "aa205d48",
   "metadata": {},
   "outputs": [
    {
     "name": "stdout",
     "output_type": "stream",
     "text": [
      "[1, 0, 0, 1, 0, 0, 1, 0, 1, 0, 0]\n"
     ]
    }
   ],
   "source": [
    "a=['yes','no','no','yes','no','no','yes','no','yes','no','no']\n",
    "d={'yes':1, 'no':0}\n",
    "new_a=[d[key] for key in a]\n",
    "print(new_a)"
   ]
  },
  {
   "cell_type": "code",
   "execution_count": 13,
   "id": "0bd66cb9",
   "metadata": {},
   "outputs": [
    {
     "name": "stdout",
     "output_type": "stream",
     "text": [
      "0번 pass\n",
      "1번 pass\n",
      "2번 pass\n",
      "3번 fail\n",
      "4번 pass\n"
     ]
    }
   ],
   "source": [
    "C"
   ]
  },
  {
   "cell_type": "code",
   "execution_count": 4,
   "id": "0e2f1586",
   "metadata": {},
   "outputs": [
    {
     "name": "stdout",
     "output_type": "stream",
     "text": [
      "[1, 0, 0, 1, 0, 0, 1, 0, 1, 0, 0]\n"
     ]
    }
   ],
   "source": [
    "a=['yes','no','no','yes','no','no','yes','no','yes','no','no']\n",
    "d={'yes':1, 'no':0}\n",
    "new_a=[d[key] for key in a]\n",
    "print(new_a)"
   ]
  },
  {
   "cell_type": "code",
   "execution_count": 16,
   "id": "917bdae2",
   "metadata": {},
   "outputs": [
    {
     "name": "stdout",
     "output_type": "stream",
     "text": [
      "[1, 0, 1, 0, 1, 1, 1, 0, 0, 0, 1, 0]\n"
     ]
    }
   ],
   "source": [
    "data1=[\"Cat\", \"Dog\", \"cat\", \"dog\", \"cat\", \"cat\", \"Cat\", \"Dog\", \"dog\", \"Dog\", \"cat\", \"Dog\"]\n",
    "\n",
    "dic_1={\"cat\":1, \"dog\":0, \"Cat\":1, \"Dog\":0}\n",
    "\n",
    "data2=[dic_1[key] for key in data1]\n",
    "print(data2)"
   ]
  },
  {
   "cell_type": "code",
   "execution_count": 19,
   "id": "3d547ba9",
   "metadata": {},
   "outputs": [
    {
     "ename": "SyntaxError",
     "evalue": "invalid non-printable character U+00A0 (Temp/ipykernel_13748/921150336.py, line 3)",
     "output_type": "error",
     "traceback": [
      "\u001b[1;36m  File \u001b[1;32m\"C:\\Users\\KTW~1.DES\\AppData\\Local\\Temp/ipykernel_13748/921150336.py\"\u001b[1;36m, line \u001b[1;32m3\u001b[0m\n\u001b[1;33m    if score[i]>= 60:\u001b[0m\n\u001b[1;37m    ^\u001b[0m\n\u001b[1;31mSyntaxError\u001b[0m\u001b[1;31m:\u001b[0m invalid non-printable character U+00A0\n"
     ]
    }
   ],
   "source": [
    "score=[65,80,75,55,90]\n",
    "for i in range(len(score)):\n",
    "    if score[i]>= 60:\n",
    "        print(\"pass\")\n",
    "    else:\n",
    "        print(\"fail\")"
   ]
  },
  {
   "cell_type": "code",
   "execution_count": 20,
   "id": "984cff72",
   "metadata": {},
   "outputs": [],
   "source": [
    "# 주석추가"
   ]
  },
  {
   "cell_type": "code",
   "execution_count": 1,
   "id": "8e767575",
   "metadata": {},
   "outputs": [
    {
     "name": "stdout",
     "output_type": "stream",
     "text": [
      "[1, 2, 3]\n",
      "[1, 2, 3] 1 2 3\n"
     ]
    }
   ],
   "source": [
    "#패킹과 언패킹\n",
    "t=[1,2,3]\n",
    "a,b,c=t\n",
    "print(t)\n",
    "print(t,a,b,c)"
   ]
  },
  {
   "cell_type": "code",
   "execution_count": 3,
   "id": "e082ad8e",
   "metadata": {},
   "outputs": [
    {
     "ename": "SyntaxError",
     "evalue": "invalid syntax (Temp/ipykernel_9100/187709855.py, line 1)",
     "output_type": "error",
     "traceback": [
      "\u001b[1;36m  File \u001b[1;32m\"C:\\Users\\KTW~1.DES\\AppData\\Local\\Temp/ipykernel_9100/187709855.py\"\u001b[1;36m, line \u001b[1;32m1\u001b[0m\n\u001b[1;33m    def calculate_rectang_area(x,y)\u001b[0m\n\u001b[1;37m                                   ^\u001b[0m\n\u001b[1;31mSyntaxError\u001b[0m\u001b[1;31m:\u001b[0m invalid syntax\n"
     ]
    }
   ],
   "source": [
    "def calculate_rectang_area(x,y):\n",
    "    returnx,y\n",
    "    \n",
    "    "
   ]
  },
  {
   "cell_type": "markdown",
   "id": "de9cc38c",
   "metadata": {},
   "source": [
    "# def cal_rec(x,y):\n",
    "    z=x*y\n",
    "    return z\n",
    "\n",
    "print(cal_rec(20,30))\n",
    "a=10\n",
    "b=20\n",
    "k=cal_rec(a,b)\n",
    "print(k)\n",
    "\n",
    "mean(data=a1:a5,option=\"a1\")"
   ]
  },
  {
   "cell_type": "code",
   "execution_count": 12,
   "id": "ed06e508",
   "metadata": {},
   "outputs": [
    {
     "name": "stdout",
     "output_type": "stream",
     "text": [
      "600\n",
      "200\n"
     ]
    }
   ],
   "source": [
    "def cal_rec(x,y):\n",
    "    z=x*y\n",
    "    return z\n",
    "print(cal_rec(20,30))\n",
    "a=10 \n",
    "b=20 \n",
    "k=cal_rec(a,b) \n",
    "print(k)"
   ]
  },
  {
   "cell_type": "markdown",
   "id": "83bc199f",
   "metadata": {},
   "source": [
    "# "
   ]
  },
  {
   "cell_type": "code",
   "execution_count": 15,
   "id": "7a196879",
   "metadata": {},
   "outputs": [
    {
     "name": "stdout",
     "output_type": "stream",
     "text": [
      "inside 30\n",
      "300\n",
      "50\n"
     ]
    }
   ],
   "source": [
    "\n",
    "def cal_rec2(x,y):\n",
    "    print(\"inside\",x)\n",
    "    print(x*y)\n",
    "    \n",
    "x=50\n",
    "a=10\n",
    "b=20\n",
    "cal_rec2(a,b)\n",
    "print(x)"
   ]
  },
  {
   "cell_type": "code",
   "execution_count": 16,
   "id": "25ac02fd",
   "metadata": {},
   "outputs": [
    {
     "name": "stdout",
     "output_type": "stream",
     "text": [
      "inside 10\n",
      "200\n",
      "50\n"
     ]
    }
   ],
   "source": [
    "def cal_rec2(x,y):\n",
    "    print(\"inside\",x)\n",
    "    print(x*y)\n",
    "    \n",
    "x=50\n",
    "a=10\n",
    "b=20\n",
    "cal_rec2(a,b)\n",
    "print(x)"
   ]
  },
  {
   "cell_type": "code",
   "execution_count": 19,
   "id": "d8775551",
   "metadata": {},
   "outputs": [
    {
     "name": "stdout",
     "output_type": "stream",
     "text": [
      "[0, 2, 1]\n",
      "[2, 3]\n",
      "[0, 2, 1]\n"
     ]
    }
   ],
   "source": [
    "def spam(x1):\n",
    "    x1.append(1)\n",
    "    print(x1)\n",
    "    x1=[2,3]\n",
    "    print(x1)\n",
    "    \n",
    "y1=[0,2]\n",
    "spam(y1)\n",
    "print(y1)"
   ]
  },
  {
   "cell_type": "code",
   "execution_count": null,
   "id": "d16a46b6",
   "metadata": {},
   "outputs": [],
   "source": []
  }
 ],
 "metadata": {
  "kernelspec": {
   "display_name": "Python 3 (ipykernel)",
   "language": "python",
   "name": "python3"
  },
  "language_info": {
   "codemirror_mode": {
    "name": "ipython",
    "version": 3
   },
   "file_extension": ".py",
   "mimetype": "text/x-python",
   "name": "python",
   "nbconvert_exporter": "python",
   "pygments_lexer": "ipython3",
   "version": "3.9.7"
  }
 },
 "nbformat": 4,
 "nbformat_minor": 5
}
